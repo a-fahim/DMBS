{
 "cells": [
  {
   "attachments": {},
   "cell_type": "markdown",
   "metadata": {},
   "source": [
    "# UNIVARIATE STATISTICAL ANALYSIS"
   ]
  },
  {
   "attachments": {},
   "cell_type": "markdown",
   "metadata": {},
   "source": [
    "## 4.1 DATA MINING TASKS IN DISCOVERING KNOWLEDGE IN DATA"
   ]
  },
  {
   "attachments": {},
   "cell_type": "markdown",
   "metadata": {},
   "source": [
    "The six data mining tasks:\n",
    "* Description\n",
    "* Estimation\n",
    "* Prediction\n",
    "* Classification\n",
    "* Clustering\n",
    "* Association"
   ]
  },
  {
   "attachments": {},
   "cell_type": "markdown",
   "metadata": {},
   "source": [
    "<img src=\"./img/L04.01.00.png\" width=60% style=\"border: 2px solid black;\">"
   ]
  },
  {
   "attachments": {},
   "cell_type": "markdown",
   "metadata": {},
   "source": [
    "## 4.2 STATISTICAL APPROACHES TO ESTIMATION AND PREDICTION"
   ]
  },
  {
   "attachments": {},
   "cell_type": "markdown",
   "metadata": {},
   "source": [
    "These methods include point estimation and confidence interval estimation for population means and proportions. We discuss ways of reducing the margin of error of a confidence interval estimate. Then we turn to hypothesis testing, examining hypothesis tests for population means and proportions."
   ]
  },
  {
   "attachments": {},
   "cell_type": "markdown",
   "metadata": {},
   "source": [
    "## 4.3 STATISTICAL INFERENCE\n",
    "<!-- <img src=\"./img/L04.01.00.png\" width=40% style=\"box-shadow: 10px 10px 5px grey;\"> <br> <br> -->\n",
    "<!-- <img src=\"./img/L03.10.05.png\" width=40% style=\"border: 2px solid black;\"> <br> -->"
   ]
  },
  {
   "attachments": {},
   "cell_type": "markdown",
   "metadata": {},
   "source": [
    "A widespread tool for performing estimation and prediction is statistical inference.\n",
    "\n",
    "Statistical inference consists of methods for estimating and testing hypotheses about population characteristics based on the information contained in the sample.\n",
    "\n",
    "A sample is simply a subset of the population, preferably a representative subset. If the sample is not representative of the population, that is, if the sample characteristics deviate systematically from the population characteristics, statistical inference should not be applied.\n",
    "\n",
    "Note that the values of population parameters are unknown for most interesting problems. Specifically, the value of the population mean is usually unknown.\n",
    "\n",
    "To represent their unknown nature, population parameters are often denoted with Greek letters.\n",
    "\n",
    "Data analysts would use estimation. For example, they would estimate the unknown value of the population mean 𝜇 by obtaining a sample and computing the sample mean x̄, which would be used to estimate 𝜇.\n",
    "\n",
    "Point estimation refers to the use of a single known value of a statistic to estimate the associated population parameter. The observed value of the statistic is called the point estimate."
   ]
  },
  {
   "attachments": {},
   "cell_type": "markdown",
   "metadata": {},
   "source": [
    "<img src=\"./img/L04.03.00.png\" width=60% style=\"border: 2px solid black;\">"
   ]
  },
  {
   "attachments": {},
   "cell_type": "markdown",
   "metadata": {},
   "source": [
    "## 4.4 HOW CONFIDENT ARE WE IN OUR ESTIMATES?"
   ]
  },
  {
   "attachments": {},
   "cell_type": "markdown",
   "metadata": {},
   "source": [
    "How confident can we be in the accuracy of the estimate?\n",
    "\n",
    "This distance between the observed value of the point estimate and the unknown value of its target parameter is called sampling error, defined as |statistic − parameter|. For example, the sampling error for the mean is |x̄ − 𝜇|, the distance (always positive) between the observed sample mean and the unknown population mean."
   ]
  },
  {
   "attachments": {},
   "cell_type": "markdown",
   "metadata": {},
   "source": [
    "## 4.5 CONFIDENCE INTERVAL ESTIMATION OF THE MEAN"
   ]
  },
  {
   "attachments": {},
   "cell_type": "markdown",
   "metadata": {},
   "source": [
    "<img src=\"./img/L04.05.00.png\" width=60% style=\"border: 2px solid black;\">"
   ]
  },
  {
   "attachments": {},
   "cell_type": "markdown",
   "metadata": {},
   "source": [
    "<img src=\"./img/L04.05.01.png\" width=60% style=\"border: 2px solid black;\">"
   ]
  },
  {
   "attachments": {},
   "cell_type": "markdown",
   "metadata": {},
   "source": [
    "<img src=\"./img/L04.05.02.png\" width=60% style=\"border: 2px solid black;\">"
   ]
  },
  {
   "attachments": {},
   "cell_type": "markdown",
   "metadata": {},
   "source": [
    "<img src=\"./img/L04.05.03.png\" width=60% style=\"border: 2px solid black;\">"
   ]
  },
  {
   "attachments": {},
   "cell_type": "markdown",
   "metadata": {},
   "source": [
    "## 4.6 HOW TO REDUCE THE MARGIN OF ERROR"
   ]
  },
  {
   "attachments": {},
   "cell_type": "markdown",
   "metadata": {},
   "source": [
    "$\n",
    "E = t_{\\alpha/2}(s/\\sqrt{n})\n",
    "$\n",
    "\n",
    "<img src=\"./img/L04.06.00.png\" width=40% style=\"border: 2px solid black;\">"
   ]
  },
  {
   "attachments": {},
   "cell_type": "markdown",
   "metadata": {},
   "source": [
    "Thus, we may decrease our margin of error in two ways\n",
    "\n",
    "<img src=\"./img/L04.06.01.png\" width=40%> <br>\n",
    "<img src=\"./img/L04.06.02.png\" width=40%>"
   ]
  },
  {
   "attachments": {},
   "cell_type": "markdown",
   "metadata": {},
   "source": [
    "<img src=\"./img/L04.06.03.png\" width=40% style=\"border: 2px solid black;\">"
   ]
  },
  {
   "attachments": {},
   "cell_type": "markdown",
   "metadata": {},
   "source": [
    "## 4.7 CONFIDENCE INTERVAL ESTIMATION OF THE PROPORTION"
   ]
  },
  {
   "attachments": {},
   "cell_type": "markdown",
   "metadata": {},
   "source": [
    "<img src=\"./img/L04.07.00.png\" width=60% style=\"border: 2px solid black;\">"
   ]
  },
  {
   "cell_type": "code",
   "execution_count": 56,
   "metadata": {},
   "outputs": [
    {
     "data": {
      "text/plain": [
       "(0.13294985760830746, 0.15685014239169254, 0.023900284783385087)"
      ]
     },
     "execution_count": 56,
     "metadata": {},
     "output_type": "execute_result"
    }
   ],
   "source": [
    "import numpy as np\n",
    "import scipy.stats as st\n",
    "\n",
    "p = 0.1449\n",
    "n = 3333\n",
    "\n",
    "alpha = 1-0.95\n",
    "\n",
    "Z_alpha2 = abs(st.norm.ppf(alpha/2))\n",
    "\n",
    "p - Z_alpha2*np.sqrt(p*(1-p)/n),p + Z_alpha2*np.sqrt(p*(1-p)/n),2*Z_alpha2*np.sqrt(p*(1-p)/n)\n"
   ]
  },
  {
   "attachments": {},
   "cell_type": "markdown",
   "metadata": {},
   "source": [
    "<img src=\"./img/L04.07.01.png\" width=60% style=\"border: 2px solid black;\">"
   ]
  },
  {
   "attachments": {},
   "cell_type": "markdown",
   "metadata": {},
   "source": [
    "## 4.8 HYPOTHESIS TESTING FOR THE MEAN"
   ]
  },
  {
   "attachments": {},
   "cell_type": "markdown",
   "metadata": {},
   "source": [
    "<img src=\"./img/L04.08.00.png\" width=60% style=\"border: 2px solid black;\">"
   ]
  },
  {
   "attachments": {},
   "cell_type": "markdown",
   "metadata": {},
   "source": [
    "<img src=\"./img/L04.08.01.png\" width=60% style=\"border: 2px solid black;\">"
   ]
  },
  {
   "attachments": {},
   "cell_type": "markdown",
   "metadata": {},
   "source": [
    "<img src=\"./img/L04.08.02.png\" width=60% style=\"border: 2px solid black;\">"
   ]
  },
  {
   "attachments": {},
   "cell_type": "markdown",
   "metadata": {},
   "source": [
    "<img src=\"./img/L04.08.03.png\" width=40% style=\"border: 2px solid black;\">"
   ]
  },
  {
   "attachments": {},
   "cell_type": "markdown",
   "metadata": {},
   "source": [
    "<img src=\"./img/L04.08.04.png\" width=40% style=\"border: 2px solid black;\">"
   ]
  },
  {
   "attachments": {},
   "cell_type": "markdown",
   "metadata": {},
   "source": [
    "<img src=\"./img/L04.08.05.png\" width=40% style=\"border: 2px solid black;\">"
   ]
  },
  {
   "attachments": {},
   "cell_type": "markdown",
   "metadata": {},
   "source": [
    "<img src=\"./img/L04.08.06.png\" width=40% style=\"border: 2px solid black;\">"
   ]
  },
  {
   "attachments": {},
   "cell_type": "markdown",
   "metadata": {},
   "source": [
    "<img src=\"./img/L04.08.07.png\" width=40% style=\"border: 2px solid black;\">"
   ]
  },
  {
   "attachments": {},
   "cell_type": "markdown",
   "metadata": {},
   "source": [
    "<img src=\"./img/L04.08.08.png\" width=20% style=\"border: 2px solid black;\">"
   ]
  },
  {
   "attachments": {},
   "cell_type": "markdown",
   "metadata": {},
   "source": [
    "<img src=\"./img/L04.08.09.png\" width=40% style=\"border: 2px solid black;\">"
   ]
  },
  {
   "attachments": {},
   "cell_type": "markdown",
   "metadata": {},
   "source": [
    "## 4.9 ASSESSING THE STRENGTH OF EVIDENCE AGAINST THE NULL HYPOTHESIS"
   ]
  },
  {
   "attachments": {},
   "cell_type": "markdown",
   "metadata": {},
   "source": [
    "<img src=\"./img/L04.09.00.png\" width=40% style=\"border: 2px solid black;\">"
   ]
  },
  {
   "attachments": {},
   "cell_type": "markdown",
   "metadata": {},
   "source": [
    "<img src=\"./img/L04.09.01.png\" width=40% style=\"border: 2px solid black;\">"
   ]
  },
  {
   "attachments": {},
   "cell_type": "markdown",
   "metadata": {},
   "source": [
    "## 4.10 USING CONFIDENCE INTERVALS TO PERFORM HYPOTHESIS TESTS"
   ]
  },
  {
   "attachments": {},
   "cell_type": "markdown",
   "metadata": {},
   "source": [
    "<img src=\"./img/L04.10.00.png\" width=40% style=\"border: 2px solid black;\">"
   ]
  },
  {
   "attachments": {},
   "cell_type": "markdown",
   "metadata": {},
   "source": [
    "<img src=\"./img/L04.10.01.png\" width=40% style=\"border: 2px solid black;\">"
   ]
  },
  {
   "attachments": {},
   "cell_type": "markdown",
   "metadata": {},
   "source": [
    "<img src=\"./img/L04.10.02.png\" width=40%> <br>\n",
    "<img src=\"./img/L04.10.03.png\" width=40%> <br>"
   ]
  },
  {
   "attachments": {},
   "cell_type": "markdown",
   "metadata": {},
   "source": [
    "## 4.11 HYPOTHESIS TESTING FOR THE PROPORTION"
   ]
  },
  {
   "attachments": {},
   "cell_type": "markdown",
   "metadata": {},
   "source": [
    "<img src=\"./img/L04.11.00.png\" width=40% style=\"border: 2px solid black;\">"
   ]
  },
  {
   "attachments": {},
   "cell_type": "markdown",
   "metadata": {},
   "source": [
    "<img src=\"./img/L04.11.01.png\" width=40% style=\"border: 2px solid black;\">"
   ]
  },
  {
   "attachments": {},
   "cell_type": "markdown",
   "metadata": {},
   "source": [
    "-------------------\n",
    "## Python Zone"
   ]
  },
  {
   "cell_type": "code",
   "execution_count": 36,
   "metadata": {},
   "outputs": [
    {
     "name": "stdout",
     "output_type": "stream",
     "text": [
      "State              object\n",
      "Account Length      int64\n",
      "Area Code           int64\n",
      "Phone              object\n",
      "Int'l Plan         object\n",
      "VMail Plan         object\n",
      "VMail Message       int64\n",
      "Day Mins          float64\n",
      "Day Calls           int64\n",
      "Day Charge        float64\n",
      "Eve Mins          float64\n",
      "Eve Calls           int64\n",
      "Eve Charge        float64\n",
      "Night Mins        float64\n",
      "Night Calls         int64\n",
      "Night Charge      float64\n",
      "Intl Mins         float64\n",
      "Intl Calls          int64\n",
      "Intl Charge       float64\n",
      "CustServ Calls      int64\n",
      "Churn?             object\n",
      "dtype: object\n"
     ]
    },
    {
     "data": {
      "text/html": [
       "<div>\n",
       "<style scoped>\n",
       "    .dataframe tbody tr th:only-of-type {\n",
       "        vertical-align: middle;\n",
       "    }\n",
       "\n",
       "    .dataframe tbody tr th {\n",
       "        vertical-align: top;\n",
       "    }\n",
       "\n",
       "    .dataframe thead th {\n",
       "        text-align: right;\n",
       "    }\n",
       "</style>\n",
       "<table border=\"1\" class=\"dataframe\">\n",
       "  <thead>\n",
       "    <tr style=\"text-align: right;\">\n",
       "      <th></th>\n",
       "      <th>State</th>\n",
       "      <th>Account Length</th>\n",
       "      <th>Area Code</th>\n",
       "      <th>Phone</th>\n",
       "      <th>Int'l Plan</th>\n",
       "      <th>VMail Plan</th>\n",
       "      <th>VMail Message</th>\n",
       "      <th>Day Mins</th>\n",
       "      <th>Day Calls</th>\n",
       "      <th>Day Charge</th>\n",
       "      <th>...</th>\n",
       "      <th>Eve Calls</th>\n",
       "      <th>Eve Charge</th>\n",
       "      <th>Night Mins</th>\n",
       "      <th>Night Calls</th>\n",
       "      <th>Night Charge</th>\n",
       "      <th>Intl Mins</th>\n",
       "      <th>Intl Calls</th>\n",
       "      <th>Intl Charge</th>\n",
       "      <th>CustServ Calls</th>\n",
       "      <th>Churn?</th>\n",
       "    </tr>\n",
       "  </thead>\n",
       "  <tbody>\n",
       "    <tr>\n",
       "      <th>0</th>\n",
       "      <td>KS</td>\n",
       "      <td>128</td>\n",
       "      <td>415</td>\n",
       "      <td>382-4657</td>\n",
       "      <td>no</td>\n",
       "      <td>yes</td>\n",
       "      <td>25</td>\n",
       "      <td>265.1</td>\n",
       "      <td>110</td>\n",
       "      <td>45.07</td>\n",
       "      <td>...</td>\n",
       "      <td>99</td>\n",
       "      <td>16.78</td>\n",
       "      <td>244.7</td>\n",
       "      <td>91</td>\n",
       "      <td>11.01</td>\n",
       "      <td>10.0</td>\n",
       "      <td>3</td>\n",
       "      <td>2.70</td>\n",
       "      <td>1</td>\n",
       "      <td>False.</td>\n",
       "    </tr>\n",
       "    <tr>\n",
       "      <th>1</th>\n",
       "      <td>OH</td>\n",
       "      <td>107</td>\n",
       "      <td>415</td>\n",
       "      <td>371-7191</td>\n",
       "      <td>no</td>\n",
       "      <td>yes</td>\n",
       "      <td>26</td>\n",
       "      <td>161.6</td>\n",
       "      <td>123</td>\n",
       "      <td>27.47</td>\n",
       "      <td>...</td>\n",
       "      <td>103</td>\n",
       "      <td>16.62</td>\n",
       "      <td>254.4</td>\n",
       "      <td>103</td>\n",
       "      <td>11.45</td>\n",
       "      <td>13.7</td>\n",
       "      <td>3</td>\n",
       "      <td>3.70</td>\n",
       "      <td>1</td>\n",
       "      <td>False.</td>\n",
       "    </tr>\n",
       "    <tr>\n",
       "      <th>2</th>\n",
       "      <td>NJ</td>\n",
       "      <td>137</td>\n",
       "      <td>415</td>\n",
       "      <td>358-1921</td>\n",
       "      <td>no</td>\n",
       "      <td>no</td>\n",
       "      <td>0</td>\n",
       "      <td>243.4</td>\n",
       "      <td>114</td>\n",
       "      <td>41.38</td>\n",
       "      <td>...</td>\n",
       "      <td>110</td>\n",
       "      <td>10.30</td>\n",
       "      <td>162.6</td>\n",
       "      <td>104</td>\n",
       "      <td>7.32</td>\n",
       "      <td>12.2</td>\n",
       "      <td>5</td>\n",
       "      <td>3.29</td>\n",
       "      <td>0</td>\n",
       "      <td>False.</td>\n",
       "    </tr>\n",
       "    <tr>\n",
       "      <th>3</th>\n",
       "      <td>OH</td>\n",
       "      <td>84</td>\n",
       "      <td>408</td>\n",
       "      <td>375-9999</td>\n",
       "      <td>yes</td>\n",
       "      <td>no</td>\n",
       "      <td>0</td>\n",
       "      <td>299.4</td>\n",
       "      <td>71</td>\n",
       "      <td>50.90</td>\n",
       "      <td>...</td>\n",
       "      <td>88</td>\n",
       "      <td>5.26</td>\n",
       "      <td>196.9</td>\n",
       "      <td>89</td>\n",
       "      <td>8.86</td>\n",
       "      <td>6.6</td>\n",
       "      <td>7</td>\n",
       "      <td>1.78</td>\n",
       "      <td>2</td>\n",
       "      <td>False.</td>\n",
       "    </tr>\n",
       "    <tr>\n",
       "      <th>4</th>\n",
       "      <td>OK</td>\n",
       "      <td>75</td>\n",
       "      <td>415</td>\n",
       "      <td>330-6626</td>\n",
       "      <td>yes</td>\n",
       "      <td>no</td>\n",
       "      <td>0</td>\n",
       "      <td>166.7</td>\n",
       "      <td>113</td>\n",
       "      <td>28.34</td>\n",
       "      <td>...</td>\n",
       "      <td>122</td>\n",
       "      <td>12.61</td>\n",
       "      <td>186.9</td>\n",
       "      <td>121</td>\n",
       "      <td>8.41</td>\n",
       "      <td>10.1</td>\n",
       "      <td>3</td>\n",
       "      <td>2.73</td>\n",
       "      <td>3</td>\n",
       "      <td>False.</td>\n",
       "    </tr>\n",
       "  </tbody>\n",
       "</table>\n",
       "<p>5 rows × 21 columns</p>\n",
       "</div>"
      ],
      "text/plain": [
       "  State  Account Length  Area Code     Phone Int'l Plan VMail Plan   \n",
       "0    KS             128        415  382-4657         no        yes  \\\n",
       "1    OH             107        415  371-7191         no        yes   \n",
       "2    NJ             137        415  358-1921         no         no   \n",
       "3    OH              84        408  375-9999        yes         no   \n",
       "4    OK              75        415  330-6626        yes         no   \n",
       "\n",
       "   VMail Message  Day Mins  Day Calls  Day Charge  ...  Eve Calls  Eve Charge   \n",
       "0             25     265.1        110       45.07  ...         99       16.78  \\\n",
       "1             26     161.6        123       27.47  ...        103       16.62   \n",
       "2              0     243.4        114       41.38  ...        110       10.30   \n",
       "3              0     299.4         71       50.90  ...         88        5.26   \n",
       "4              0     166.7        113       28.34  ...        122       12.61   \n",
       "\n",
       "   Night Mins  Night Calls  Night Charge  Intl Mins  Intl Calls  Intl Charge   \n",
       "0       244.7           91         11.01       10.0           3         2.70  \\\n",
       "1       254.4          103         11.45       13.7           3         3.70   \n",
       "2       162.6          104          7.32       12.2           5         3.29   \n",
       "3       196.9           89          8.86        6.6           7         1.78   \n",
       "4       186.9          121          8.41       10.1           3         2.73   \n",
       "\n",
       "   CustServ Calls  Churn?  \n",
       "0               1  False.  \n",
       "1               1  False.  \n",
       "2               0  False.  \n",
       "3               2  False.  \n",
       "4               3  False.  \n",
       "\n",
       "[5 rows x 21 columns]"
      ]
     },
     "execution_count": 36,
     "metadata": {},
     "output_type": "execute_result"
    }
   ],
   "source": [
    "import numpy as np\n",
    "import pandas as pd\n",
    "from scipy import stats as st\n",
    "\n",
    "input_file = \"./data_sets/churn.txt\"\n",
    "\n",
    "df = pd.read_csv(input_file)\n",
    "print(df.dtypes)\n",
    "df.head()\n"
   ]
  },
  {
   "cell_type": "code",
   "execution_count": 37,
   "metadata": {},
   "outputs": [
    {
     "data": {
      "text/html": [
       "<div>\n",
       "<style scoped>\n",
       "    .dataframe tbody tr th:only-of-type {\n",
       "        vertical-align: middle;\n",
       "    }\n",
       "\n",
       "    .dataframe tbody tr th {\n",
       "        vertical-align: top;\n",
       "    }\n",
       "\n",
       "    .dataframe thead th {\n",
       "        text-align: right;\n",
       "    }\n",
       "</style>\n",
       "<table border=\"1\" class=\"dataframe\">\n",
       "  <thead>\n",
       "    <tr style=\"text-align: right;\">\n",
       "      <th></th>\n",
       "      <th>State</th>\n",
       "      <th>Account Length</th>\n",
       "      <th>Area Code</th>\n",
       "      <th>Phone</th>\n",
       "      <th>Int'l Plan</th>\n",
       "      <th>VMail Plan</th>\n",
       "      <th>VMail Message</th>\n",
       "      <th>Day Mins</th>\n",
       "      <th>Day Calls</th>\n",
       "      <th>Day Charge</th>\n",
       "      <th>...</th>\n",
       "      <th>Eve Calls</th>\n",
       "      <th>Eve Charge</th>\n",
       "      <th>Night Mins</th>\n",
       "      <th>Night Calls</th>\n",
       "      <th>Night Charge</th>\n",
       "      <th>Intl Mins</th>\n",
       "      <th>Intl Calls</th>\n",
       "      <th>Intl Charge</th>\n",
       "      <th>CustServ Calls</th>\n",
       "      <th>Churn?</th>\n",
       "    </tr>\n",
       "  </thead>\n",
       "  <tbody>\n",
       "    <tr>\n",
       "      <th>9</th>\n",
       "      <td>WV</td>\n",
       "      <td>141</td>\n",
       "      <td>415</td>\n",
       "      <td>330-8173</td>\n",
       "      <td>yes</td>\n",
       "      <td>yes</td>\n",
       "      <td>37</td>\n",
       "      <td>258.6</td>\n",
       "      <td>84</td>\n",
       "      <td>43.96</td>\n",
       "      <td>...</td>\n",
       "      <td>111</td>\n",
       "      <td>18.87</td>\n",
       "      <td>326.4</td>\n",
       "      <td>97</td>\n",
       "      <td>14.69</td>\n",
       "      <td>11.2</td>\n",
       "      <td>5</td>\n",
       "      <td>3.02</td>\n",
       "      <td>0</td>\n",
       "      <td>False.</td>\n",
       "    </tr>\n",
       "    <tr>\n",
       "      <th>198</th>\n",
       "      <td>ME</td>\n",
       "      <td>131</td>\n",
       "      <td>510</td>\n",
       "      <td>353-7292</td>\n",
       "      <td>yes</td>\n",
       "      <td>yes</td>\n",
       "      <td>26</td>\n",
       "      <td>292.9</td>\n",
       "      <td>101</td>\n",
       "      <td>49.79</td>\n",
       "      <td>...</td>\n",
       "      <td>97</td>\n",
       "      <td>16.97</td>\n",
       "      <td>255.3</td>\n",
       "      <td>127</td>\n",
       "      <td>11.49</td>\n",
       "      <td>13.8</td>\n",
       "      <td>7</td>\n",
       "      <td>3.73</td>\n",
       "      <td>4</td>\n",
       "      <td>True.</td>\n",
       "    </tr>\n",
       "    <tr>\n",
       "      <th>319</th>\n",
       "      <td>SD</td>\n",
       "      <td>128</td>\n",
       "      <td>510</td>\n",
       "      <td>413-9269</td>\n",
       "      <td>yes</td>\n",
       "      <td>yes</td>\n",
       "      <td>32</td>\n",
       "      <td>223.5</td>\n",
       "      <td>81</td>\n",
       "      <td>38.00</td>\n",
       "      <td>...</td>\n",
       "      <td>74</td>\n",
       "      <td>16.05</td>\n",
       "      <td>154.9</td>\n",
       "      <td>101</td>\n",
       "      <td>6.97</td>\n",
       "      <td>9.4</td>\n",
       "      <td>2</td>\n",
       "      <td>2.54</td>\n",
       "      <td>2</td>\n",
       "      <td>True.</td>\n",
       "    </tr>\n",
       "    <tr>\n",
       "      <th>351</th>\n",
       "      <td>AR</td>\n",
       "      <td>179</td>\n",
       "      <td>415</td>\n",
       "      <td>413-3412</td>\n",
       "      <td>yes</td>\n",
       "      <td>yes</td>\n",
       "      <td>38</td>\n",
       "      <td>220.1</td>\n",
       "      <td>78</td>\n",
       "      <td>37.42</td>\n",
       "      <td>...</td>\n",
       "      <td>71</td>\n",
       "      <td>19.92</td>\n",
       "      <td>237.3</td>\n",
       "      <td>85</td>\n",
       "      <td>10.68</td>\n",
       "      <td>10.1</td>\n",
       "      <td>4</td>\n",
       "      <td>2.73</td>\n",
       "      <td>4</td>\n",
       "      <td>False.</td>\n",
       "    </tr>\n",
       "    <tr>\n",
       "      <th>514</th>\n",
       "      <td>AL</td>\n",
       "      <td>60</td>\n",
       "      <td>408</td>\n",
       "      <td>411-7778</td>\n",
       "      <td>yes</td>\n",
       "      <td>yes</td>\n",
       "      <td>29</td>\n",
       "      <td>265.9</td>\n",
       "      <td>113</td>\n",
       "      <td>45.20</td>\n",
       "      <td>...</td>\n",
       "      <td>94</td>\n",
       "      <td>18.34</td>\n",
       "      <td>108.1</td>\n",
       "      <td>82</td>\n",
       "      <td>4.86</td>\n",
       "      <td>14.0</td>\n",
       "      <td>12</td>\n",
       "      <td>3.78</td>\n",
       "      <td>0</td>\n",
       "      <td>True.</td>\n",
       "    </tr>\n",
       "  </tbody>\n",
       "</table>\n",
       "<p>5 rows × 21 columns</p>\n",
       "</div>"
      ],
      "text/plain": [
       "    State  Account Length  Area Code     Phone Int'l Plan VMail Plan   \n",
       "9      WV             141        415  330-8173        yes        yes  \\\n",
       "198    ME             131        510  353-7292        yes        yes   \n",
       "319    SD             128        510  413-9269        yes        yes   \n",
       "351    AR             179        415  413-3412        yes        yes   \n",
       "514    AL              60        408  411-7778        yes        yes   \n",
       "\n",
       "     VMail Message  Day Mins  Day Calls  Day Charge  ...  Eve Calls   \n",
       "9               37     258.6         84       43.96  ...        111  \\\n",
       "198             26     292.9        101       49.79  ...         97   \n",
       "319             32     223.5         81       38.00  ...         74   \n",
       "351             38     220.1         78       37.42  ...         71   \n",
       "514             29     265.9        113       45.20  ...         94   \n",
       "\n",
       "     Eve Charge  Night Mins  Night Calls  Night Charge  Intl Mins  Intl Calls   \n",
       "9         18.87       326.4           97         14.69       11.2           5  \\\n",
       "198       16.97       255.3          127         11.49       13.8           7   \n",
       "319       16.05       154.9          101          6.97        9.4           2   \n",
       "351       19.92       237.3           85         10.68       10.1           4   \n",
       "514       18.34       108.1           82          4.86       14.0          12   \n",
       "\n",
       "     Intl Charge  CustServ Calls  Churn?  \n",
       "9           3.02               0  False.  \n",
       "198         3.73               4   True.  \n",
       "319         2.54               2   True.  \n",
       "351         2.73               4  False.  \n",
       "514         3.78               0   True.  \n",
       "\n",
       "[5 rows x 21 columns]"
      ]
     },
     "execution_count": 37,
     "metadata": {},
     "output_type": "execute_result"
    }
   ],
   "source": [
    "subchern = df[(df[\"Int'l Plan\"]==\"yes\") & (df[\"VMail Plan\"]==\"yes\") & (df[\"Day Mins\"] > 220)]\n",
    "subchern.head()"
   ]
  },
  {
   "cell_type": "code",
   "execution_count": 38,
   "metadata": {},
   "outputs": [
    {
     "name": "stdout",
     "output_type": "stream",
     "text": [
      "t-statistic: -2.2171278058391657\n",
      "p-value: 0.035222893130474914\n",
      "Confidence interval: (0.8733969374718356, 2.3408887768138786)\n"
     ]
    }
   ],
   "source": [
    "\n",
    "# Check if mu = 2.4 with 95% Confidence Level\n",
    "\n",
    "data_test = subchern[\"CustServ Calls\"]\n",
    "# Perform t-test\n",
    "t_statistic, p_value = st.ttest_1samp(data_test, 2.4)\n",
    "\n",
    "# Calculate confidence interval\n",
    "ci = st.t.interval(0.95, len(data_test)-1, loc=np.mean(data_test), scale=st.sem(data_test))\n",
    "\n",
    "print(\"t-statistic:\", t_statistic)\n",
    "print(\"p-value:\", p_value)\n",
    "print(\"Confidence interval:\", ci)\n"
   ]
  },
  {
   "cell_type": "code",
   "execution_count": 48,
   "metadata": {},
   "outputs": [
    {
     "name": "stdout",
     "output_type": "stream",
     "text": [
      "['False.' 'True.']\n",
      "Num. Churn: 483\n",
      "Check if Proportion is 0.15\n",
      "Z_data: -0.822\n",
      "p_value: 0.411\n",
      "lower_bound: 0.133\n",
      "upper_bound: 0.157\n"
     ]
    }
   ],
   "source": [
    "import math\n",
    "from scipy.stats import norm\n",
    "\n",
    "churn = df[[\"Churn?\"]]\n",
    "\n",
    "# One sample Proportion Test and Confidence Interval\n",
    "# Show possible levels of Churn variable\n",
    "print(churn['Churn?'].unique())\n",
    "\n",
    "# Find how many customers churned\n",
    "num_churn = sum(churn['Churn?'] == \"True.\")\n",
    "print(f\"Num. Churn: {num_churn}\")\n",
    "print(\"Check if Proportion is 0.15\")\n",
    "\n",
    "# Find sample size, Calculate p, Z_data\n",
    "sample_size = churn.shape[0]\n",
    "p = num_churn/sample_size\n",
    "Z_data = (p - 0.15) / math.sqrt((0.15*(1-0.15))/sample_size)\n",
    "\n",
    "# Find confidence interval, p-value of Z_data\n",
    "error = norm.ppf(0.975, loc=0, scale=1)*math.sqrt((p*(1-p))/sample_size)\n",
    "lower_bound = p - error\n",
    "upper_bound = p + error\n",
    "p_value = 2*norm.cdf(Z_data, loc=0, scale=1)\n",
    "\n",
    "print(f\"Z_data: {np.round(Z_data,3)}\")\n",
    "print(f\"p_value: {np.round(p_value,3)}\")\n",
    "print(f\"lower_bound: {np.round(lower_bound,3)}\")\n",
    "print(f\"upper_bound: {np.round(upper_bound,3)}\")\n"
   ]
  },
  {
   "cell_type": "code",
   "execution_count": 44,
   "metadata": {},
   "outputs": [
    {
     "data": {
      "image/png": "[encoded data removed]",
      "text/plain": [
       "<Figure size 432x288 with 1 Axes>"
      ]
     },
     "metadata": {
      "needs_background": "light"
     },
     "output_type": "display_data"
    }
   ],
   "source": [
    "from scipy.stats import t\n",
    "import matplotlib.pyplot as plt\n",
    "import numpy as np\n",
    "\n",
    "\n",
    "\n",
    "x = np.linspace(-10,10,100)\n",
    "y = t.pdf(x,df=1)\n",
    "\n",
    "n = 3333\n",
    "\n",
    "alpha = 0.10\n",
    "df = n-1\n",
    "ppf1 = t.ppf(alpha/2,df=df)\n",
    "ppf2 = t.ppf(1-alpha/2,df=df)\n",
    "idx1 = np.where(x<=ppf1)[0].max()\n",
    "idx2 = np.where(x<=ppf2)[0].max()\n",
    "\n",
    "\n",
    "fig, ax = plt.subplots()\n",
    "\n",
    "ax.plot(x,y,label=\"df=n-1\")\n",
    "ax.fill_between(x[:idx1],y[:idx1], color='red')\n",
    "ax.fill_between(x[idx2:],y[idx2:], color='red')\n",
    "plt.legend()\n",
    "plt.show()\n",
    "\n"
   ]
  },
  {
   "cell_type": "code",
   "execution_count": 43,
   "metadata": {},
   "outputs": [
    {
     "data": {
      "text/plain": [
       "-1.9606759912291278"
      ]
     },
     "execution_count": 43,
     "metadata": {},
     "output_type": "execute_result"
    }
   ],
   "source": [
    "t.ppf(.025,df=3333)"
   ]
  },
  {
   "cell_type": "code",
   "execution_count": null,
   "metadata": {},
   "outputs": [],
   "source": []
  }
 ],
 "metadata": {
  "kernelspec": {
   "display_name": "Python 3",
   "language": "python",
   "name": "python3"
  },
  "language_info": {
   "codemirror_mode": {
    "name": "ipython",
    "version": 3
   },
   "file_extension": ".py",
   "mimetype": "text/x-python",
   "name": "python",
   "nbconvert_exporter": "python",
   "pygments_lexer": "ipython3",
   "version": "3.10.6"
  },
  "orig_nbformat": 4
 },
 "nbformat": 4,
 "nbformat_minor": 2
}
