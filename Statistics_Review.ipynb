{
 "cells": [
  {
   "attachments": {},
   "cell_type": "markdown",
   "metadata": {},
   "source": [
    "Statistical Inference -> Confidence Interval for Estimation\n",
    "\n",
    "* Populatin Mean\n",
    "* Population proportion\n",
    "* ~~Population Variance~~"
   ]
  },
  {
   "attachments": {},
   "cell_type": "markdown",
   "metadata": {},
   "source": [
    "-----\n",
    "$E(X_i) = \\mu, \\qquad$\n",
    "$E(\\bar X) = \\mu,$\n",
    "\n",
    "$V(X_i) = \\sigma^2, \\qquad $\n",
    "$V(\\bar X) = \\displaystyle{\\sigma^2 \\over n} $\n",
    "\n",
    "$\\widehat{\\sigma^2} = S^2 = \\displaystyle{1\\over n-1} \\displaystyle\\sum_{i=1}^n \\left(X_i-\\bar X\\right)^2$\n",
    "\n",
    "Population|Sample Estimator|Error Margin\n",
    "-|-|-\n",
    "$\\mu$|$\\hat \\mu = \\bar X = \\displaystyle\\frac{1}{n}\\displaystyle\\sum_{i=1}^n X_i$|$t_{\\alpha/2,\\nu}\\sqrt{S^2 \\over n}, \\quad \\nu=n-1$\n",
    "$\\mu_1 - \\mu_2$|$\\bar X_1 - \\bar X_2$|$t_{\\alpha/2,\\nu}\\sqrt{{S_1^2 \\over n_1}+{S_2^2 \\over n_2}}, \\qquad \\nu=\\min\\{n_1,n_2\\}-1$\n",
    "\n",
    "<!-- $S = \\hat \\sigma = \\sqrt{\\frac{1}{n-1}\\displaystyle\\sum_{i=1}^n \\left(X_i-\\bar X\\right)^2}$|||$\\sigma$ -->"
   ]
  },
  {
   "attachments": {},
   "cell_type": "markdown",
   "metadata": {},
   "source": [
    "-----\n",
    "Suppose that Y has a binomial distribution with $n$ trials and probability of success\n",
    "on any one trial denoted by $\\pi$. \n",
    "\n",
    "$$Y = \\displaystyle\\sum_{i=1}^{n} X_i, \\qquad \\text{where} \\quad\n",
    "X_i=\\left\\{\\begin{array}{ll}\n",
    "1,&\\quad \\text{if the ith trial results in success,}\\\\ \n",
    "0,&\\quad \\text{otherwise.}\n",
    "\\end{array}\\right.$$\n",
    "\n",
    "$E(X_i) = \\pi, \\qquad$ \n",
    "$E(Y) = E\\left(\\displaystyle\\sum_{i=1}^{n} X_i\\right) = \\sum E(X_i) = n\\pi, \\qquad$ \n",
    "$E(\\bar X) = \\pi$\n",
    " \n",
    "\n",
    "$V(X_i) = \\pi(1 − \\pi), \\qquad$\n",
    "$V(Y) = V\\left(\\displaystyle\\sum_{i=1}^{n} X_i\\right) = \\sum V(X_i) = n\\pi(1 − \\pi), \\qquad$\n",
    "$V(\\bar X) = \\displaystyle{\\pi(1 − \\pi) \\over n}$\n",
    "\n",
    "\n",
    "- Probability of success $\\pi$ is nearly normal when the sample size $n$ is sufficiently large that $n\\pi$ and $n(1 − \\pi)$ are **both at least $10$**.\n",
    "\n",
    "Population|Sample Estimator|Error Margin\n",
    "-|-|-\n",
    "$\\pi$|$\\hat \\pi = p = \\displaystyle{Y\\over n}$|$z_{\\alpha/2}\\sqrt{p.(1-p) \\over n}$\n",
    "$\\pi_1 - \\pi_2$|$p_1 - p_2 $|$z_{\\alpha/2}\\sqrt{p_{\\text{pooled}}.(1-p_{\\text{pooled}})\\left(\\frac{1}{n_1}+\\frac{1}{n_2}\\right)}, \\qquad p_{\\text{pooled}} = \\frac{Y_1+Y_2}{n_1+n_2}$\n"
   ]
  },
  {
   "attachments": {},
   "cell_type": "markdown",
   "metadata": {},
   "source": [
    "------\n",
    "\n",
    "$ $|$X_1$|$...$|$X_n$\n",
    "-|-|-|-\n",
    "$Y_1$|$O_{11}\\left(E_{11}\\right)$|$...$|$O_{1n}\\left(E_{1n}\\right)$\n",
    "$...$|$...$|$...$|$...$\n",
    "$Y_m$|$O_{m1}\\left(E_{m1}\\right)$|$...$|$O_{mn}\\left(E_{mn}\\right)$\n",
    "\n",
    "$$\n",
    "\\displaystyle\\sum_{i,j=1}^{n,m} \\frac{(O_{ij}-E_{ij})^2}{E_{ij}}\\sim\\chi^2_\\nu, \\qquad \\nu=(n-1).(m-1)\n",
    "$$"
   ]
  },
  {
   "attachments": {},
   "cell_type": "markdown",
   "metadata": {},
   "source": [
    "---------\n",
    "$$\n",
    "[y]_{m\\times 1} \\left([x]_{n\\times 1}\\right), \\qquad \\Rightarrow U_{kl}=Cov\\left(y_k,y_l\\right)\\approx\\displaystyle\\sum_{i,j}^{n}\\left.\\frac{\\partial y_k}{\\partial x_i}\\frac{\\partial y_l}{\\partial x_j}\\right|_{x=\\mu} Cov(x_i,x_j)\n",
    "$$\n",
    "\n",
    "$$\n",
    "U=AVA^T, \\qquad A_{ij}=\\left.\\frac{\\partial y_i}{\\partial x_j}\\right|_{x=\\mu}, \\qquad V_{ij}=Cov(x_i,x_j)\n",
    "$$"
   ]
  },
  {
   "attachments": {},
   "cell_type": "markdown",
   "metadata": {},
   "source": [
    "--------\n",
    "$$\n",
    "V_{xy} = E[xy]-E[x]E[y], \\quad \\rho_{xy}=\\frac{V_{xy}}{\\sigma_x \\sigma_y}\n",
    "$$\n",
    "\n",
    "$$\n",
    "S_{xx} = \\sum(x_i-\\bar x)^2, \\quad S_{xy} = \\sum(x_i-\\bar x)(y_i-\\bar y), \\quad S_{yy} = \\sum(y_i-\\bar y)^2 = SST\n",
    "$$\n",
    "\n",
    "$$\n",
    "SSR_{reg} = \\sum(\\hat y_i - \\bar y)^2, \\qquad SSE = \\sum(y_i-\\hat y_i)^2, \\qquad  S^2 = MSE = \\frac{SSE}{n-2}\n",
    "$$\n",
    "\n",
    "$$\n",
    "SSR+SSE = SST, \\qquad r^2 = \\frac{SSR}{SST} \n",
    "$$"
   ]
  },
  {
   "attachments": {},
   "cell_type": "markdown",
   "metadata": {},
   "source": [
    "------\n",
    "$$\n",
    "Y=X\\beta+\\epsilon, \\qquad \\hat Y = X \\hat\\beta, \\qquad \\hat\\beta = \\left(\\left(X^T X\\right)^{-1}X^{T}\\right)Y=AY\n",
    "$$\n",
    "\n",
    "$$\n",
    "V(Y) = V(\\epsilon)=\\sigma^2, \\qquad V(\\beta) = A (\\sigma^2) A^T = \\left(X^T X\\right)^{-1} \\sigma^2\n",
    "$$\n",
    "\n",
    "Standard Error of Estimation:\n",
    "$$\n",
    "\\widehat{\\sigma^2} = S^2 = MSE = \\frac{SSE}{n-(k+1)}, \\qquad SSE=\\sum (y_i-\\hat y_i)^2=Y^T(Y-X\\hat{\\beta})\n",
    "$$\n",
    "\n",
    "$$\n",
    "T=\\frac{\\hat f-f_0}{\\sqrt{V(f)}} \\sim t_{n-(k+1)}\n",
    "$$\n",
    "\n"
   ]
  },
  {
   "attachments": {},
   "cell_type": "markdown",
   "metadata": {},
   "source": [
    "----------\n",
    "$$\n",
    "A = \\begin{pmatrix}\n",
    "a & b \\\\\n",
    "c & d\n",
    "\\end{pmatrix}, \\qquad A^{-1} = \\frac{1}{ad-bc} \\begin{pmatrix} d & -b \\\\ -c & a\\end{pmatrix}\n",
    "$$"
   ]
  },
  {
   "attachments": {},
   "cell_type": "markdown",
   "metadata": {},
   "source": [
    "---------\n",
    "$$\n",
    "V(y^*) = V(\\hat y^* + \\epsilon) = V([1,x^*][\\beta_0,\\beta_1]^T + \\epsilon) = [1,x^*] V(\\beta) [1,x^*]^T + V(\\epsilon)=\n",
    "\\sigma^2[1,x^*] A A^T [1,x^*]^T + \\sigma^2\n",
    "$$\n",
    "\n",
    "$$\n",
    "V(y^*) = \\sigma^2\\left([1,x^*] \\left(X^T X\\right)^{-1} [1,x^*]^T + 1\\right)\n",
    "$$\n",
    "\n",
    "$$\n",
    "\\hat y^* = \\hat \\beta_0 + x^* \\hat \\beta_1 \\pm t_{\\alpha/2,n-2}S\\sqrt{[1,x^*] \\left(X^T X\\right)^{-1} [1,x^*]^T + 1}\n",
    "$$"
   ]
  },
  {
   "attachments": {},
   "cell_type": "markdown",
   "metadata": {},
   "source": [
    "$$\n",
    "V(E(y^*)) = V(E(\\hat y^*+\\epsilon)) = \\sigma^2[1,x^*] \\left(X^T X\\right)^{-1} [1,x^*]^T + 0\n",
    "$$\n",
    "\n",
    "$$\n",
    "E(\\hat y^*) = \\hat \\beta_0 + x^* \\hat \\beta_1 \\pm t_{\\alpha/2,n-2}S\\sqrt{[1,x^*] \\left(X^T X\\right)^{-1} [1,x^*]^T}\n",
    "$$"
   ]
  },
  {
   "cell_type": "code",
   "execution_count": 1,
   "metadata": {},
   "outputs": [
    {
     "data": {
      "image/png": "[encoded data removed]",
      "text/plain": [
       "<Figure size 720x360 with 1 Axes>"
      ]
     },
     "metadata": {
      "needs_background": "light"
     },
     "output_type": "display_data"
    }
   ],
   "source": [
    "import numpy as np\n",
    "import scipy.stats as st\n",
    "import matplotlib.pyplot as plt\n",
    "\n",
    "x = np.linspace(-5,15,100)\n",
    "y0 = st.norm.pdf(x,loc=1,scale=2.)\n",
    "y1 = st.norm.pdf(x,loc=6,scale=2.5)\n",
    "\n",
    "\n",
    "## PLOT ###\n",
    "fig, ax = plt.subplots(figsize=(10,5))\n",
    "ax.tick_params(which='both', direction='in',right=True,top=True)   \n",
    "ax.minorticks_on()\n",
    "\n",
    "ax.plot(x,y0,label=r'$H_0$',c=\"b\")\n",
    "ax.plot(x,y1,label=r'$H_a$',c=\"r\")\n",
    "ax.vlines(4,0,0.25,linestyle=':')\n",
    "ax.text(4.2, 0.2, r\"Rejection Region for $H_0$\",\n",
    "            ha=\"left\", va=\"center\", rotation=0, size=10,\n",
    "            bbox=dict(boxstyle=\"rarrow,pad=0.5\",\n",
    "                      fc=\"lightblue\", ec=\"steelblue\", lw=2))\n",
    "ax.fill_between(x[(x > 4 )], 0, y0[(x > 4)], color='b', hatch='//', alpha=0.2)\n",
    "ax.fill_between(x[(x < 4 )], 0, y1[(x < 4)], color='red', hatch='//', alpha=0.2)\n",
    "\n",
    "ax.set_xlabel(\"Test Statistic\")\n",
    "\n",
    "ax.annotate(r'Error Type I: $\\alpha$',\n",
    "            xy=(4.5, 0.01), \n",
    "            xytext=(5, 0.05), \n",
    "            size=10,c=\"b\",\n",
    "            arrowprops=dict(arrowstyle=\"fancy\",fc=\"none\",ec=\"b\",\n",
    "                            connectionstyle=\"angle3,angleA=0,angleB=-90\"))\n",
    "ax.annotate(r'Error Type II: $\\beta$',\n",
    "            xy=(3, 0.03), \n",
    "            xytext=(-1.5, 0.08), \n",
    "            size=10,c=\"r\",\n",
    "            arrowprops=dict(arrowstyle=\"fancy\",fc=\"none\",ec=\"r\",\n",
    "                            connectionstyle=\"angle3,angleA=0,angleB=-90\"))\n",
    "\n",
    "\n",
    "plt.legend()\n",
    "plt.show()"
   ]
  },
  {
   "attachments": {},
   "cell_type": "markdown",
   "metadata": {},
   "source": []
  }
 ],
 "metadata": {
  "kernelspec": {
   "display_name": "Python 3",
   "language": "python",
   "name": "python3"
  },
  "language_info": {
   "codemirror_mode": {
    "name": "ipython",
    "version": 3
   },
   "file_extension": ".py",
   "mimetype": "text/x-python",
   "name": "python",
   "nbconvert_exporter": "python",
   "pygments_lexer": "ipython3",
   "version": "3.10.6"
  },
  "orig_nbformat": 4
 },
 "nbformat": 4,
 "nbformat_minor": 2
}
