{
 "cells": [
  {
   "attachments": {},
   "cell_type": "markdown",
   "metadata": {},
   "source": [
    "node|PL|PR|P(j/tL)|P(j/tR)\n",
    "-|-|-|-|-\n",
    "7|3/8|5/8|G:1/3-B:2/3|G:4/5-B:1/5\n",
    "9|7/8|1/8|G:4/7-B:3/7|G:1/1-B:0/1\n",
    "\n",
    "\n",
    "\n"
   ]
  },
  {
   "attachments": {},
   "cell_type": "markdown",
   "metadata": {},
   "source": [
    "node|PL|PR|P(j/tL)|P(j/tR)|2 PL PR|Q(s/t)\n",
    "-|-|-|-|-|-|-\n",
    "7|3/8|5/8|G:1/3-B:2/3|G:4/5-B:1/5|30/64|abs(1/3-4/5)+abs(2/3-1/5)=14/15\n",
    "9|7/8|1/8|G:4/7-B:3/7|G:1/1-B:0/1|14/64|abs(4/7-1/1)+abs(3/7-0/1)=6/7\n"
   ]
  },
  {
   "attachments": {},
   "cell_type": "markdown",
   "metadata": {},
   "source": [
    "node|PL|PR|P(j/tL)|P(j/tR)|2 PL PR|Q(s/t)|$\\phi(s/t)$\n",
    "-|-|-|-|-|-|-|-\n",
    "7|3/8|5/8|G:1/3-B:2/3|G:4/5-B:1/5|30/64|abs(2/3-3/5)+abs(1/3-2/5)=14/15|30/64*14/15=7/16\n",
    "9|7/8|1/8|G:4/7-B:3/7|G:1/1-B:0/1|14/64|abs(4/7-1/1)+abs(3/7-0/1)=6/7|14/64*6/7=3/16\n"
   ]
  },
  {
   "cell_type": "code",
   "execution_count": 11,
   "metadata": {},
   "outputs": [
    {
     "data": {
      "text/plain": [
       "1.0"
      ]
     },
     "execution_count": 11,
     "metadata": {},
     "output_type": "execute_result"
    }
   ],
   "source": [
    "import numpy as np\n",
    "\n",
    "NB = 5\n",
    "NR = 5\n",
    "N = NB + NR\n",
    "\n",
    "PB = NB/N\n",
    "PR = NR/N\n",
    "\n",
    "PB,PR\n",
    "H = -PB*np.log2(PB)-PR*np.log2(PR)\n",
    "H"
   ]
  },
  {
   "cell_type": "code",
   "execution_count": 14,
   "metadata": {},
   "outputs": [
    {
     "data": {
      "text/plain": [
       "0.2780719051126377"
      ]
     },
     "execution_count": 14,
     "metadata": {},
     "output_type": "execute_result"
    }
   ],
   "source": [
    "NBR = 0\n",
    "NRR = 4\n",
    "NR = NBR+NRR\n",
    "\n",
    "PBR = NBR/NR\n",
    "PRR = NRR/NR\n",
    "\n",
    "HR = -PBR*np.log2(PBR)-PRR*np.log2(PRR)\n",
    "\n",
    "#########################\n",
    "NBL = 5\n",
    "NRL = 1\n",
    "NL = NBL+NRL\n",
    "\n",
    "PBL = NBL/NL\n",
    "PRL = NRL/NL\n",
    "\n",
    "HL = -PBL*np.log2(PBL)-PRL*np.log2(PRL)\n",
    "\n",
    "########################\n",
    "HS = (NL/N)*HL+(NR/N)*HR\n",
    "\n",
    "G = H-HS\n",
    "G"
   ]
  },
  {
   "cell_type": "code",
   "execution_count": null,
   "metadata": {},
   "outputs": [],
   "source": []
  }
 ],
 "metadata": {
  "kernelspec": {
   "display_name": "Python 3",
   "language": "python",
   "name": "python3"
  },
  "language_info": {
   "codemirror_mode": {
    "name": "ipython",
    "version": 3
   },
   "file_extension": ".py",
   "mimetype": "text/x-python",
   "name": "python",
   "nbconvert_exporter": "python",
   "pygments_lexer": "ipython3",
   "version": "3.10.6"
  },
  "orig_nbformat": 4
 },
 "nbformat": 4,
 "nbformat_minor": 2
}
